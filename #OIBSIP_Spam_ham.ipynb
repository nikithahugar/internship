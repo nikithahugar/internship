{
 "cells": [
  {
   "cell_type": "code",
   "execution_count": 1,
   "id": "f92d2da8",
   "metadata": {},
   "outputs": [],
   "source": [
    "import numpy as np\n",
    "import pandas as pd\n"
   ]
  },
  {
   "cell_type": "code",
   "execution_count": 108,
   "id": "851b674a",
   "metadata": {},
   "outputs": [],
   "source": [
    "import warnings\n",
    "warnings.filterwarnings('ignore')"
   ]
  },
  {
   "cell_type": "code",
   "execution_count": 34,
   "id": "e1c7bcfc",
   "metadata": {},
   "outputs": [
    {
     "data": {
      "text/html": [
       "<div>\n",
       "<style scoped>\n",
       "    .dataframe tbody tr th:only-of-type {\n",
       "        vertical-align: middle;\n",
       "    }\n",
       "\n",
       "    .dataframe tbody tr th {\n",
       "        vertical-align: top;\n",
       "    }\n",
       "\n",
       "    .dataframe thead th {\n",
       "        text-align: right;\n",
       "    }\n",
       "</style>\n",
       "<table border=\"1\" class=\"dataframe\">\n",
       "  <thead>\n",
       "    <tr style=\"text-align: right;\">\n",
       "      <th></th>\n",
       "      <th>v1</th>\n",
       "      <th>v2</th>\n",
       "      <th>Unnamed: 2</th>\n",
       "      <th>Unnamed: 3</th>\n",
       "      <th>Unnamed: 4</th>\n",
       "    </tr>\n",
       "  </thead>\n",
       "  <tbody>\n",
       "    <tr>\n",
       "      <th>0</th>\n",
       "      <td>ham</td>\n",
       "      <td>Go until jurong point, crazy.. Available only ...</td>\n",
       "      <td>NaN</td>\n",
       "      <td>NaN</td>\n",
       "      <td>NaN</td>\n",
       "    </tr>\n",
       "    <tr>\n",
       "      <th>1</th>\n",
       "      <td>ham</td>\n",
       "      <td>Ok lar... Joking wif u oni...</td>\n",
       "      <td>NaN</td>\n",
       "      <td>NaN</td>\n",
       "      <td>NaN</td>\n",
       "    </tr>\n",
       "    <tr>\n",
       "      <th>2</th>\n",
       "      <td>spam</td>\n",
       "      <td>Free entry in 2 a wkly comp to win FA Cup fina...</td>\n",
       "      <td>NaN</td>\n",
       "      <td>NaN</td>\n",
       "      <td>NaN</td>\n",
       "    </tr>\n",
       "    <tr>\n",
       "      <th>3</th>\n",
       "      <td>ham</td>\n",
       "      <td>U dun say so early hor... U c already then say...</td>\n",
       "      <td>NaN</td>\n",
       "      <td>NaN</td>\n",
       "      <td>NaN</td>\n",
       "    </tr>\n",
       "    <tr>\n",
       "      <th>4</th>\n",
       "      <td>ham</td>\n",
       "      <td>Nah I don't think he goes to usf, he lives aro...</td>\n",
       "      <td>NaN</td>\n",
       "      <td>NaN</td>\n",
       "      <td>NaN</td>\n",
       "    </tr>\n",
       "  </tbody>\n",
       "</table>\n",
       "</div>"
      ],
      "text/plain": [
       "     v1                                                 v2 Unnamed: 2  \\\n",
       "0   ham  Go until jurong point, crazy.. Available only ...        NaN   \n",
       "1   ham                      Ok lar... Joking wif u oni...        NaN   \n",
       "2  spam  Free entry in 2 a wkly comp to win FA Cup fina...        NaN   \n",
       "3   ham  U dun say so early hor... U c already then say...        NaN   \n",
       "4   ham  Nah I don't think he goes to usf, he lives aro...        NaN   \n",
       "\n",
       "  Unnamed: 3 Unnamed: 4  \n",
       "0        NaN        NaN  \n",
       "1        NaN        NaN  \n",
       "2        NaN        NaN  \n",
       "3        NaN        NaN  \n",
       "4        NaN        NaN  "
      ]
     },
     "execution_count": 34,
     "metadata": {},
     "output_type": "execute_result"
    }
   ],
   "source": [
    "df=pd.read_csv(\"spam.csv\", encoding_errors= 'replace')\n",
    "df.head()"
   ]
  },
  {
   "cell_type": "code",
   "execution_count": 38,
   "id": "ac1874a7",
   "metadata": {},
   "outputs": [
    {
     "data": {
      "text/plain": [
       "(5572, 5)"
      ]
     },
     "execution_count": 38,
     "metadata": {},
     "output_type": "execute_result"
    }
   ],
   "source": [
    "df.shape"
   ]
  },
  {
   "cell_type": "markdown",
   "id": "adb2702b",
   "metadata": {},
   "source": [
    "there are 5572 rows × 5 columns in this spam dataset"
   ]
  },
  {
   "cell_type": "markdown",
   "id": "f308913d",
   "metadata": {},
   "source": [
    "# About the Dataset\n",
    "Columns\n",
    "\n",
    "v1(label)\n",
    "\n",
    "v2(email)\n",
    "\n",
    "V1\n",
    "\n",
    "Spam\n",
    "\n",
    "Ham -> Not Spam"
   ]
  },
  {
   "cell_type": "markdown",
   "id": "e0581b0d",
   "metadata": {},
   "source": [
    "# Exploratory Data Analysis"
   ]
  },
  {
   "cell_type": "code",
   "execution_count": 107,
   "id": "ba158b5f",
   "metadata": {},
   "outputs": [
    {
     "name": "stdout",
     "output_type": "stream",
     "text": [
      "[747, 4825]\n"
     ]
    },
    {
     "data": {
      "image/png": "[encoded data removed]",
      "text/plain": [
       "<Figure size 640x480 with 1 Axes>"
      ]
     },
     "metadata": {},
     "output_type": "display_data"
    }
   ],
   "source": [
    "import matplotlib.pyplot as plt\n",
    "spam = (df.loc[df['v1'] == 'spam'])['v1'].count()\n",
    "notspam = ((df.loc[df['v1'] == 'ham'])['v1'].count())\n",
    "labels = ['Spam', 'Not Spam']\n",
    "values = [spam, notspam]\n",
    "print(values)\n",
    "plt.bar(labels,values)\n",
    "plt.show()"
   ]
  },
  {
   "cell_type": "markdown",
   "id": "a26f2c66",
   "metadata": {},
   "source": [
    "# Out of the given training set of 5572 training examples the following is the compostion:\n",
    "747 Spam\n",
    "\n",
    "4825 Not Spam"
   ]
  },
  {
   "cell_type": "code",
   "execution_count": 40,
   "id": "8698d31e",
   "metadata": {},
   "outputs": [],
   "source": [
    "import string\n",
    "import nltk\n",
    "from nltk.corpus import stopwords\n",
    "def text_preprocess(text):\n",
    "    text = text.translate(str.maketrans('', '', string.punctuation))\n",
    "    text = [word for word in text.split() if word.lower() not in  stopwords.words('english')]\n",
    "    return \" \".join(text)"
   ]
  },
  {
   "cell_type": "markdown",
   "id": "5d5efb0d",
   "metadata": {},
   "source": [
    "# Preprocessing the text\n",
    "Removing punctuations and stop words."
   ]
  },
  {
   "cell_type": "code",
   "execution_count": 109,
   "id": "6de666a7",
   "metadata": {},
   "outputs": [
    {
     "name": "stderr",
     "output_type": "stream",
     "text": [
      "[nltk_data] Downloading package stopwords to\n",
      "[nltk_data]     C:\\Users\\nikit\\AppData\\Roaming\\nltk_data...\n",
      "[nltk_data]   Package stopwords is already up-to-date!\n",
      "[nltk_data] Downloading package punkt to\n",
      "[nltk_data]     C:\\Users\\nikit\\AppData\\Roaming\\nltk_data...\n",
      "[nltk_data]   Package punkt is already up-to-date!\n"
     ]
    },
    {
     "data": {
      "text/html": [
       "<div>\n",
       "<style scoped>\n",
       "    .dataframe tbody tr th:only-of-type {\n",
       "        vertical-align: middle;\n",
       "    }\n",
       "\n",
       "    .dataframe tbody tr th {\n",
       "        vertical-align: top;\n",
       "    }\n",
       "\n",
       "    .dataframe thead th {\n",
       "        text-align: right;\n",
       "    }\n",
       "</style>\n",
       "<table border=\"1\" class=\"dataframe\">\n",
       "  <thead>\n",
       "    <tr style=\"text-align: right;\">\n",
       "      <th></th>\n",
       "      <th>v1</th>\n",
       "      <th>v2</th>\n",
       "      <th>Unnamed: 2</th>\n",
       "      <th>Unnamed: 3</th>\n",
       "      <th>Unnamed: 4</th>\n",
       "      <th>processed_text</th>\n",
       "    </tr>\n",
       "  </thead>\n",
       "  <tbody>\n",
       "    <tr>\n",
       "      <th>0</th>\n",
       "      <td>ham</td>\n",
       "      <td>Go until jurong point, crazy.. Available only ...</td>\n",
       "      <td>NaN</td>\n",
       "      <td>NaN</td>\n",
       "      <td>NaN</td>\n",
       "      <td>Go jurong point crazy Available bugis n great ...</td>\n",
       "    </tr>\n",
       "    <tr>\n",
       "      <th>1</th>\n",
       "      <td>ham</td>\n",
       "      <td>Ok lar... Joking wif u oni...</td>\n",
       "      <td>NaN</td>\n",
       "      <td>NaN</td>\n",
       "      <td>NaN</td>\n",
       "      <td>Ok lar Joking wif u oni</td>\n",
       "    </tr>\n",
       "    <tr>\n",
       "      <th>2</th>\n",
       "      <td>spam</td>\n",
       "      <td>Free entry in 2 a wkly comp to win FA Cup fina...</td>\n",
       "      <td>NaN</td>\n",
       "      <td>NaN</td>\n",
       "      <td>NaN</td>\n",
       "      <td>Free entry 2 wkly comp win FA Cup final tkts 2...</td>\n",
       "    </tr>\n",
       "    <tr>\n",
       "      <th>3</th>\n",
       "      <td>ham</td>\n",
       "      <td>U dun say so early hor... U c already then say...</td>\n",
       "      <td>NaN</td>\n",
       "      <td>NaN</td>\n",
       "      <td>NaN</td>\n",
       "      <td>U dun say early hor U c already say</td>\n",
       "    </tr>\n",
       "    <tr>\n",
       "      <th>4</th>\n",
       "      <td>ham</td>\n",
       "      <td>Nah I don't think he goes to usf, he lives aro...</td>\n",
       "      <td>NaN</td>\n",
       "      <td>NaN</td>\n",
       "      <td>NaN</td>\n",
       "      <td>Nah dont think goes usf lives around though</td>\n",
       "    </tr>\n",
       "  </tbody>\n",
       "</table>\n",
       "</div>"
      ],
      "text/plain": [
       "     v1                                                 v2 Unnamed: 2  \\\n",
       "0   ham  Go until jurong point, crazy.. Available only ...        NaN   \n",
       "1   ham                      Ok lar... Joking wif u oni...        NaN   \n",
       "2  spam  Free entry in 2 a wkly comp to win FA Cup fina...        NaN   \n",
       "3   ham  U dun say so early hor... U c already then say...        NaN   \n",
       "4   ham  Nah I don't think he goes to usf, he lives aro...        NaN   \n",
       "\n",
       "  Unnamed: 3 Unnamed: 4                                     processed_text  \n",
       "0        NaN        NaN  Go jurong point crazy Available bugis n great ...  \n",
       "1        NaN        NaN                            Ok lar Joking wif u oni  \n",
       "2        NaN        NaN  Free entry 2 wkly comp win FA Cup final tkts 2...  \n",
       "3        NaN        NaN                U dun say early hor U c already say  \n",
       "4        NaN        NaN        Nah dont think goes usf lives around though  "
      ]
     },
     "execution_count": 109,
     "metadata": {},
     "output_type": "execute_result"
    }
   ],
   "source": [
    "import pandas as pd\n",
    "import nltk\n",
    "from nltk.corpus import stopwords\n",
    "from nltk.tokenize import word_tokenize\n",
    "import string\n",
    "\n",
    "# Download the stop words dataset if not already downloaded\n",
    "nltk.download('stopwords')\n",
    "nltk.download('punkt')\n",
    "\n",
    "# Load your DataFrame\n",
    "df = pd.read_csv(\"spam.csv\", encoding_errors= 'replace')\n",
    "\n",
    "# Function to remove punctuation and stop words from a given text\n",
    "def process_text(text):\n",
    "    # Remove punctuation\n",
    "    text = text.translate(str.maketrans(\"\", \"\", string.punctuation))\n",
    "    \n",
    "    # Tokenize the text\n",
    "    tokens = word_tokenize(text)\n",
    "    \n",
    "    # Remove stop words\n",
    "    stop_words = set(stopwords.words('english'))\n",
    "    tokens = [word for word in tokens if word.lower() not in stop_words]\n",
    "    \n",
    "    # Join the tokens back into a string\n",
    "    processed_text = ' '.join(tokens)\n",
    "    \n",
    "    return processed_text\n",
    "\n",
    "# Apply the process_text function to the 'text' column in your DataFrame\n",
    "df['processed_text'] = df['v2'].apply(process_text)\n",
    "\n",
    "# Display the updated DataFrame\n",
    "df.head()\n"
   ]
  },
  {
   "cell_type": "code",
   "execution_count": 54,
   "id": "f0040083",
   "metadata": {},
   "outputs": [
    {
     "data": {
      "text/html": [
       "<div>\n",
       "<style scoped>\n",
       "    .dataframe tbody tr th:only-of-type {\n",
       "        vertical-align: middle;\n",
       "    }\n",
       "\n",
       "    .dataframe tbody tr th {\n",
       "        vertical-align: top;\n",
       "    }\n",
       "\n",
       "    .dataframe thead th {\n",
       "        text-align: right;\n",
       "    }\n",
       "</style>\n",
       "<table border=\"1\" class=\"dataframe\">\n",
       "  <thead>\n",
       "    <tr style=\"text-align: right;\">\n",
       "      <th></th>\n",
       "      <th>v2</th>\n",
       "    </tr>\n",
       "  </thead>\n",
       "  <tbody>\n",
       "    <tr>\n",
       "      <th>0</th>\n",
       "      <td>[w, w]</td>\n",
       "    </tr>\n",
       "    <tr>\n",
       "      <th>1</th>\n",
       "      <td>[w]</td>\n",
       "    </tr>\n",
       "    <tr>\n",
       "      <th>2</th>\n",
       "      <td>[w, w]</td>\n",
       "    </tr>\n",
       "    <tr>\n",
       "      <th>3</th>\n",
       "      <td>[]</td>\n",
       "    </tr>\n",
       "    <tr>\n",
       "      <th>4</th>\n",
       "      <td>[]</td>\n",
       "    </tr>\n",
       "    <tr>\n",
       "      <th>...</th>\n",
       "      <td>...</td>\n",
       "    </tr>\n",
       "    <tr>\n",
       "      <th>5567</th>\n",
       "      <td>[w, w]</td>\n",
       "    </tr>\n",
       "    <tr>\n",
       "      <th>5568</th>\n",
       "      <td>[]</td>\n",
       "    </tr>\n",
       "    <tr>\n",
       "      <th>5569</th>\n",
       "      <td>[w]</td>\n",
       "    </tr>\n",
       "    <tr>\n",
       "      <th>5570</th>\n",
       "      <td>[w]</td>\n",
       "    </tr>\n",
       "    <tr>\n",
       "      <th>5571</th>\n",
       "      <td>[]</td>\n",
       "    </tr>\n",
       "  </tbody>\n",
       "</table>\n",
       "<p>5572 rows × 1 columns</p>\n",
       "</div>"
      ],
      "text/plain": [
       "          v2\n",
       "0     [w, w]\n",
       "1        [w]\n",
       "2     [w, w]\n",
       "3         []\n",
       "4         []\n",
       "...      ...\n",
       "5567  [w, w]\n",
       "5568      []\n",
       "5569     [w]\n",
       "5570     [w]\n",
       "5571      []\n",
       "\n",
       "[5572 rows x 1 columns]"
      ]
     },
     "execution_count": 54,
     "metadata": {},
     "output_type": "execute_result"
    }
   ],
   "source": [
    "from nltk.tokenize import RegexpTokenizer\n",
    "tokeniser = RegexpTokenizer(r'w+')\n",
    "df[\"v2\"] = df[\"v2\"].apply(lambda x: tokeniser.tokenize(x))\n",
    "df[[\"v2\"]]"
   ]
  },
  {
   "cell_type": "code",
   "execution_count": 58,
   "id": "c55d370e",
   "metadata": {},
   "outputs": [
    {
     "data": {
      "text/html": [
       "<div>\n",
       "<style scoped>\n",
       "    .dataframe tbody tr th:only-of-type {\n",
       "        vertical-align: middle;\n",
       "    }\n",
       "\n",
       "    .dataframe tbody tr th {\n",
       "        vertical-align: top;\n",
       "    }\n",
       "\n",
       "    .dataframe thead th {\n",
       "        text-align: right;\n",
       "    }\n",
       "</style>\n",
       "<table border=\"1\" class=\"dataframe\">\n",
       "  <thead>\n",
       "    <tr style=\"text-align: right;\">\n",
       "      <th></th>\n",
       "      <th>v1</th>\n",
       "      <th>v2</th>\n",
       "      <th>Unnamed: 2</th>\n",
       "      <th>Unnamed: 3</th>\n",
       "      <th>Unnamed: 4</th>\n",
       "      <th>processed_text</th>\n",
       "    </tr>\n",
       "  </thead>\n",
       "  <tbody>\n",
       "    <tr>\n",
       "      <th>0</th>\n",
       "      <td>ham</td>\n",
       "      <td>[w, w]</td>\n",
       "      <td>NaN</td>\n",
       "      <td>NaN</td>\n",
       "      <td>NaN</td>\n",
       "      <td>Go jurong point crazy Available bugis n great ...</td>\n",
       "    </tr>\n",
       "    <tr>\n",
       "      <th>1</th>\n",
       "      <td>ham</td>\n",
       "      <td>[w]</td>\n",
       "      <td>NaN</td>\n",
       "      <td>NaN</td>\n",
       "      <td>NaN</td>\n",
       "      <td>Ok lar Joking wif u oni</td>\n",
       "    </tr>\n",
       "    <tr>\n",
       "      <th>2</th>\n",
       "      <td>spam</td>\n",
       "      <td>[w, w]</td>\n",
       "      <td>NaN</td>\n",
       "      <td>NaN</td>\n",
       "      <td>NaN</td>\n",
       "      <td>Free entry 2 wkly comp win FA Cup final tkts 2...</td>\n",
       "    </tr>\n",
       "    <tr>\n",
       "      <th>3</th>\n",
       "      <td>ham</td>\n",
       "      <td>[]</td>\n",
       "      <td>NaN</td>\n",
       "      <td>NaN</td>\n",
       "      <td>NaN</td>\n",
       "      <td>U dun say early hor U c already say</td>\n",
       "    </tr>\n",
       "    <tr>\n",
       "      <th>4</th>\n",
       "      <td>ham</td>\n",
       "      <td>[]</td>\n",
       "      <td>NaN</td>\n",
       "      <td>NaN</td>\n",
       "      <td>NaN</td>\n",
       "      <td>Nah dont think goes usf lives around though</td>\n",
       "    </tr>\n",
       "    <tr>\n",
       "      <th>...</th>\n",
       "      <td>...</td>\n",
       "      <td>...</td>\n",
       "      <td>...</td>\n",
       "      <td>...</td>\n",
       "      <td>...</td>\n",
       "      <td>...</td>\n",
       "    </tr>\n",
       "    <tr>\n",
       "      <th>5567</th>\n",
       "      <td>spam</td>\n",
       "      <td>[w, w]</td>\n",
       "      <td>NaN</td>\n",
       "      <td>NaN</td>\n",
       "      <td>NaN</td>\n",
       "      <td>2nd time tried 2 contact u U �750 Pound prize ...</td>\n",
       "    </tr>\n",
       "    <tr>\n",
       "      <th>5568</th>\n",
       "      <td>ham</td>\n",
       "      <td>[]</td>\n",
       "      <td>NaN</td>\n",
       "      <td>NaN</td>\n",
       "      <td>NaN</td>\n",
       "      <td>� b going esplanade fr home</td>\n",
       "    </tr>\n",
       "    <tr>\n",
       "      <th>5569</th>\n",
       "      <td>ham</td>\n",
       "      <td>[w]</td>\n",
       "      <td>NaN</td>\n",
       "      <td>NaN</td>\n",
       "      <td>NaN</td>\n",
       "      <td>Pity mood Soany suggestions</td>\n",
       "    </tr>\n",
       "    <tr>\n",
       "      <th>5570</th>\n",
       "      <td>ham</td>\n",
       "      <td>[w]</td>\n",
       "      <td>NaN</td>\n",
       "      <td>NaN</td>\n",
       "      <td>NaN</td>\n",
       "      <td>guy bitching acted like id interested buying s...</td>\n",
       "    </tr>\n",
       "    <tr>\n",
       "      <th>5571</th>\n",
       "      <td>ham</td>\n",
       "      <td>[]</td>\n",
       "      <td>NaN</td>\n",
       "      <td>NaN</td>\n",
       "      <td>NaN</td>\n",
       "      <td>Rofl true name</td>\n",
       "    </tr>\n",
       "  </tbody>\n",
       "</table>\n",
       "<p>5572 rows × 6 columns</p>\n",
       "</div>"
      ],
      "text/plain": [
       "        v1      v2 Unnamed: 2 Unnamed: 3 Unnamed: 4  \\\n",
       "0      ham  [w, w]        NaN        NaN        NaN   \n",
       "1      ham     [w]        NaN        NaN        NaN   \n",
       "2     spam  [w, w]        NaN        NaN        NaN   \n",
       "3      ham      []        NaN        NaN        NaN   \n",
       "4      ham      []        NaN        NaN        NaN   \n",
       "...    ...     ...        ...        ...        ...   \n",
       "5567  spam  [w, w]        NaN        NaN        NaN   \n",
       "5568   ham      []        NaN        NaN        NaN   \n",
       "5569   ham     [w]        NaN        NaN        NaN   \n",
       "5570   ham     [w]        NaN        NaN        NaN   \n",
       "5571   ham      []        NaN        NaN        NaN   \n",
       "\n",
       "                                         processed_text  \n",
       "0     Go jurong point crazy Available bugis n great ...  \n",
       "1                               Ok lar Joking wif u oni  \n",
       "2     Free entry 2 wkly comp win FA Cup final tkts 2...  \n",
       "3                   U dun say early hor U c already say  \n",
       "4           Nah dont think goes usf lives around though  \n",
       "...                                                 ...  \n",
       "5567  2nd time tried 2 contact u U �750 Pound prize ...  \n",
       "5568                        � b going esplanade fr home  \n",
       "5569                        Pity mood Soany suggestions  \n",
       "5570  guy bitching acted like id interested buying s...  \n",
       "5571                                     Rofl true name  \n",
       "\n",
       "[5572 rows x 6 columns]"
      ]
     },
     "execution_count": 58,
     "metadata": {},
     "output_type": "execute_result"
    }
   ],
   "source": [
    "df"
   ]
  },
  {
   "cell_type": "markdown",
   "id": "76ab5a04",
   "metadata": {},
   "source": [
    "# Vectorization\n",
    "Feature Engineering"
   ]
  },
  {
   "cell_type": "code",
   "execution_count": 60,
   "id": "6af59600",
   "metadata": {},
   "outputs": [],
   "source": [
    "from sklearn.feature_extraction.text import CountVectorizer\n",
    "vectorizer = CountVectorizer()\n",
    "x = vectorizer.fit_transform(df[\"processed_text\"])"
   ]
  },
  {
   "cell_type": "code",
   "execution_count": 61,
   "id": "4d51a836",
   "metadata": {},
   "outputs": [
    {
     "data": {
      "text/plain": [
       "(5572, 9329)"
      ]
     },
     "execution_count": 61,
     "metadata": {},
     "output_type": "execute_result"
    }
   ],
   "source": [
    "X=np.array(x.toarray())\n",
    "np.shape(X)"
   ]
  },
  {
   "cell_type": "markdown",
   "id": "c13146cb",
   "metadata": {},
   "source": [
    "# Making the prediction vector by treating Spam as 1 and not spam as 0"
   ]
  },
  {
   "cell_type": "code",
   "execution_count": 93,
   "id": "f7e3f460",
   "metadata": {},
   "outputs": [],
   "source": [
    "y=[]\n",
    "for pred in df['v1']:\n",
    "    if(pred == 'spam'):\n",
    "        y.append(1)\n",
    "    else:\n",
    "        y.append(0)"
   ]
  },
  {
   "cell_type": "code",
   "execution_count": 94,
   "id": "e6b6f22e",
   "metadata": {},
   "outputs": [
    {
     "data": {
      "text/plain": [
       "(5572, 9332)"
      ]
     },
     "execution_count": 94,
     "metadata": {},
     "output_type": "execute_result"
    }
   ],
   "source": [
    "a= np.ones((np.shape(X)[0],1))\n",
    "X = np.append(a,X,axis=1)\n",
    "np.shape(X)"
   ]
  },
  {
   "cell_type": "markdown",
   "id": "ab77e98e",
   "metadata": {},
   "source": [
    "# Splitting the test Data"
   ]
  },
  {
   "cell_type": "code",
   "execution_count": 95,
   "id": "66701fa9",
   "metadata": {},
   "outputs": [],
   "source": [
    "#Splitting the test data\n",
    "from sklearn.model_selection import train_test_split\n",
    "(TrainX,ValuateX,Trainy,Valuatey) = train_test_split(X,y,random_state=1)"
   ]
  },
  {
   "cell_type": "markdown",
   "id": "efb0d58b",
   "metadata": {},
   "source": [
    "The data set has been split into 2 parts, one to train the model and the other to Evaluate the accuracy of the model"
   ]
  },
  {
   "cell_type": "raw",
   "id": "c09c8c50",
   "metadata": {},
   "source": [
    "The data set has been split into 2 parts, one to train the model and the other to Evaluate the accuracy of the model"
   ]
  },
  {
   "cell_type": "code",
   "execution_count": 96,
   "id": "4b29b543",
   "metadata": {},
   "outputs": [
    {
     "name": "stdout",
     "output_type": "stream",
     "text": [
      "(4179, 9332)\n",
      "(4179,)\n"
     ]
    }
   ],
   "source": [
    "print(np.shape(TrainX))\n",
    "print(np.shape(Trainy))"
   ]
  },
  {
   "cell_type": "code",
   "execution_count": 97,
   "id": "c1849fa9",
   "metadata": {},
   "outputs": [
    {
     "name": "stdout",
     "output_type": "stream",
     "text": [
      "(1393, 9332)\n",
      "(1393,)\n"
     ]
    }
   ],
   "source": [
    "print(np.shape(ValuateX))\n",
    "print(np.shape(Valuatey))"
   ]
  },
  {
   "cell_type": "markdown",
   "id": "63f566a2",
   "metadata": {},
   "source": [
    "# Solving Logistic Regression by calculating the parameters through Gradient Descent\n",
    "The Hypothesis\n",
    "In the case of Logistic Regression the Hypothesis is of the form, hypothesis = sigmoid(Transpose(theta)X)**"
   ]
  },
  {
   "cell_type": "code",
   "execution_count": 98,
   "id": "7e136921",
   "metadata": {},
   "outputs": [],
   "source": [
    "import math\n",
    "def hypothesis(theta,X):\n",
    "    h = -1*(np.matmul(X,theta))\n",
    "    h = 1/(1+np.exp(h))\n",
    "    return h"
   ]
  },
  {
   "cell_type": "markdown",
   "id": "51030987",
   "metadata": {},
   "source": [
    "# The Cost Function"
   ]
  },
  {
   "cell_type": "code",
   "execution_count": 99,
   "id": "d7cba99f",
   "metadata": {},
   "outputs": [],
   "source": [
    "def cost(theta,X,y,m):\n",
    "    t1 = np.ones(np.shape(y)[0])\n",
    "    h = hypothesis(theta,X)\n",
    "    t2 = np.ones(np.shape(h)[0])\n",
    "    c = np.sum((y*np.log(h)) +((t1+y)*np.log(t2-h) ))/m\n",
    "    return c"
   ]
  },
  {
   "cell_type": "markdown",
   "id": "c310cb4d",
   "metadata": {},
   "source": [
    "# Applying Gradient Descent"
   ]
  },
  {
   "cell_type": "code",
   "execution_count": 101,
   "id": "1c9a801f",
   "metadata": {},
   "outputs": [],
   "source": [
    "def gradientDescent(theta,X,y,m,alpha,it):\n",
    "    iteration = []\n",
    "    c = []\n",
    "    for i in range(0,it):\n",
    "       # d = alpha*((hypothesis(theta,X)-y)*X)\n",
    "        d = hypothesis(theta,X)-y\n",
    "        d = np.sum((X*d[0])*alpha,axis=0)\n",
    "       # print(np.shape(d))\n",
    "        theta = theta - d\n",
    "        temp = cost(theta,X,y,m)\n",
    "        #print(temp)\n",
    "        c.append(-1*cost(theta,X,y,m))\n",
    "        iteration.append(i)\n",
    "    return(theta,iteration,c)\n"
   ]
  },
  {
   "cell_type": "code",
   "execution_count": 102,
   "id": "9de037c6",
   "metadata": {},
   "outputs": [],
   "source": [
    "np.shape(TrainX)[1] #no of features\n",
    "theta = np.zeros(np.shape(TrainX)[1])\n",
    "np.shape(TrainX)\n",
    "(theta,i,c) = gradientDescent(theta,TrainX,Trainy,np.shape(TrainX[0]),0.000001,2000)"
   ]
  },
  {
   "cell_type": "markdown",
   "id": "7580e230",
   "metadata": {},
   "source": [
    "# Plotting the cost function vs Iterations to check the proper functioning of Gradient descent and check the value of parameter alpha."
   ]
  },
  {
   "cell_type": "code",
   "execution_count": 103,
   "id": "4179189e",
   "metadata": {
    "scrolled": false
   },
   "outputs": [
    {
     "data": {
      "text/plain": [
       "Text(0, 0.5, 'Cost function ->')"
      ]
     },
     "execution_count": 103,
     "metadata": {},
     "output_type": "execute_result"
    },
    {
     "data": {
      "image/png": "[encoded data removed]",
      "text/plain": [
       "<Figure size 640x480 with 1 Axes>"
      ]
     },
     "metadata": {},
     "output_type": "display_data"
    }
   ],
   "source": [
    "%matplotlib inline\n",
    "from matplotlib import pyplot as plt\n",
    "plt.plot(i,c)\n",
    "plt.xlabel('Iterations ->')\n",
    "plt.ylabel('Cost function ->')"
   ]
  },
  {
   "cell_type": "markdown",
   "id": "82beb31c",
   "metadata": {},
   "source": [
    "# The cost function decreases with time and approaches a constant value, therefore the computed parameters are acceptable.\n",
    "The following value of thetas form our hypothesis in the form H=sigmoid(X.Theta)"
   ]
  },
  {
   "cell_type": "code",
   "execution_count": 104,
   "id": "f4d1b57e",
   "metadata": {},
   "outputs": [
    {
     "data": {
      "text/plain": [
       "array([-1.02705721e+00, -1.02705721e+00, -1.02705721e+00, ...,\n",
       "       -2.45766263e-04, -2.45766263e-04, -2.45766263e-04])"
      ]
     },
     "execution_count": 104,
     "metadata": {},
     "output_type": "execute_result"
    }
   ],
   "source": [
    "theta"
   ]
  },
  {
   "cell_type": "code",
   "execution_count": 105,
   "id": "05d54886",
   "metadata": {},
   "outputs": [
    {
     "name": "stdout",
     "output_type": "stream",
     "text": [
      "Unique Classes: [0 1]\n"
     ]
    }
   ],
   "source": [
    "unique_classes = np.unique(Trainy)\n",
    "print(\"Unique Classes:\", unique_classes)"
   ]
  },
  {
   "cell_type": "code",
   "execution_count": 106,
   "id": "a3df720b",
   "metadata": {},
   "outputs": [
    {
     "data": {
      "text/plain": [
       "0.9806173725771715"
      ]
     },
     "execution_count": 106,
     "metadata": {},
     "output_type": "execute_result"
    }
   ],
   "source": [
    "from sklearn.linear_model import LogisticRegression\n",
    "from sklearn.metrics import accuracy_score\n",
    "\n",
    "Spam_model = LogisticRegression(solver='liblinear', penalty='l1')\n",
    "Spam_model.fit(TrainX, Trainy)\n",
    "pred = Spam_model.predict(ValuateX)\n",
    "accuracy_score(Valuatey,pred)"
   ]
  },
  {
   "cell_type": "markdown",
   "id": "997c87fc",
   "metadata": {},
   "source": [
    "# An accuracy of around 98 percent is Achieved while using this model."
   ]
  },
  {
   "cell_type": "code",
   "execution_count": null,
   "id": "4c4b9d10",
   "metadata": {},
   "outputs": [],
   "source": []
  },
  {
   "cell_type": "code",
   "execution_count": null,
   "id": "dfd2d5c9",
   "metadata": {},
   "outputs": [],
   "source": []
  },
  {
   "cell_type": "code",
   "execution_count": null,
   "id": "1da53c4f",
   "metadata": {},
   "outputs": [],
   "source": []
  },
  {
   "cell_type": "code",
   "execution_count": null,
   "id": "7cc09687",
   "metadata": {},
   "outputs": [],
   "source": []
  },
  {
   "cell_type": "code",
   "execution_count": null,
   "id": "55ef7c72",
   "metadata": {},
   "outputs": [],
   "source": []
  },
  {
   "cell_type": "code",
   "execution_count": null,
   "id": "a071786a",
   "metadata": {},
   "outputs": [],
   "source": []
  }
 ],
 "metadata": {
  "kernelspec": {
   "display_name": "Python 3 (ipykernel)",
   "language": "python",
   "name": "python3"
  },
  "language_info": {
   "codemirror_mode": {
    "name": "ipython",
    "version": 3
   },
   "file_extension": ".py",
   "mimetype": "text/x-python",
   "name": "python",
   "nbconvert_exporter": "python",
   "pygments_lexer": "ipython3",
   "version": "3.10.9"
  }
 },
 "nbformat": 4,
 "nbformat_minor": 5
}
